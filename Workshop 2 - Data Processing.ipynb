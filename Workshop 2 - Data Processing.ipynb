{
 "cells": [
  {
   "cell_type": "code",
   "execution_count": 2,
   "id": "153466ce",
   "metadata": {},
   "outputs": [],
   "source": [
    "import pandas as pd"
   ]
  },
  {
   "cell_type": "code",
   "execution_count": 3,
   "id": "f3acc843",
   "metadata": {},
   "outputs": [],
   "source": [
    "big10 = pd.read_csv(\"big10.csv\", sep='\\t')"
   ]
  },
  {
   "cell_type": "code",
   "execution_count": 7,
   "id": "eca6c6e5",
   "metadata": {},
   "outputs": [
    {
     "data": {
      "text/html": [
       "<div>\n",
       "<style scoped>\n",
       "    .dataframe tbody tr th:only-of-type {\n",
       "        vertical-align: middle;\n",
       "    }\n",
       "\n",
       "    .dataframe tbody tr th {\n",
       "        vertical-align: top;\n",
       "    }\n",
       "\n",
       "    .dataframe thead th {\n",
       "        text-align: right;\n",
       "    }\n",
       "</style>\n",
       "<table border=\"1\" class=\"dataframe\">\n",
       "  <thead>\n",
       "    <tr style=\"text-align: right;\">\n",
       "      <th></th>\n",
       "      <th>Unnamed: 0</th>\n",
       "      <th>IND</th>\n",
       "      <th>NAME</th>\n",
       "      <th>POS</th>\n",
       "      <th>HT</th>\n",
       "      <th>WT</th>\n",
       "      <th>CLASS</th>\n",
       "      <th>BIRTH_CITY</th>\n",
       "      <th>University</th>\n",
       "    </tr>\n",
       "  </thead>\n",
       "  <tbody>\n",
       "    <tr>\n",
       "      <th>0</th>\n",
       "      <td>0</td>\n",
       "      <td>NaN</td>\n",
       "      <td>Tommy DeVito3</td>\n",
       "      <td>QB</td>\n",
       "      <td>6' 2\"</td>\n",
       "      <td>210 lbs</td>\n",
       "      <td>SR</td>\n",
       "      <td>Cedar Grove, NJ</td>\n",
       "      <td>University of Illinois</td>\n",
       "    </tr>\n",
       "    <tr>\n",
       "      <th>1</th>\n",
       "      <td>1</td>\n",
       "      <td>NaN</td>\n",
       "      <td>Jake Huber11</td>\n",
       "      <td>QB</td>\n",
       "      <td>6' 1\"</td>\n",
       "      <td>205 lbs</td>\n",
       "      <td>FR</td>\n",
       "      <td>Spring Grove, IL</td>\n",
       "      <td>University of Illinois</td>\n",
       "    </tr>\n",
       "    <tr>\n",
       "      <th>2</th>\n",
       "      <td>2</td>\n",
       "      <td>NaN</td>\n",
       "      <td>Ryan Johnson17</td>\n",
       "      <td>QB</td>\n",
       "      <td>6' 4\"</td>\n",
       "      <td>225 lbs</td>\n",
       "      <td>SR</td>\n",
       "      <td>Green Bay, WI</td>\n",
       "      <td>University of Illinois</td>\n",
       "    </tr>\n",
       "    <tr>\n",
       "      <th>3</th>\n",
       "      <td>3</td>\n",
       "      <td>NaN</td>\n",
       "      <td>Donovan Leary10</td>\n",
       "      <td>QB</td>\n",
       "      <td>6' 2\"</td>\n",
       "      <td>215 lbs</td>\n",
       "      <td>FR</td>\n",
       "      <td>Sicklerville, NJ</td>\n",
       "      <td>University of Illinois</td>\n",
       "    </tr>\n",
       "    <tr>\n",
       "      <th>4</th>\n",
       "      <td>4</td>\n",
       "      <td>NaN</td>\n",
       "      <td>Kirkland Michaux12</td>\n",
       "      <td>QB</td>\n",
       "      <td>6' 4\"</td>\n",
       "      <td>225 lbs</td>\n",
       "      <td>FR</td>\n",
       "      <td>Austin, TX</td>\n",
       "      <td>University of Illinois</td>\n",
       "    </tr>\n",
       "  </tbody>\n",
       "</table>\n",
       "</div>"
      ],
      "text/plain": [
       "   Unnamed: 0  IND                NAME POS     HT       WT CLASS  \\\n",
       "0           0  NaN       Tommy DeVito3  QB  6' 2\"  210 lbs    SR   \n",
       "1           1  NaN        Jake Huber11  QB  6' 1\"  205 lbs    FR   \n",
       "2           2  NaN      Ryan Johnson17  QB  6' 4\"  225 lbs    SR   \n",
       "3           3  NaN     Donovan Leary10  QB  6' 2\"  215 lbs    FR   \n",
       "4           4  NaN  Kirkland Michaux12  QB  6' 4\"  225 lbs    FR   \n",
       "\n",
       "         BIRTH_CITY              University  \n",
       "0   Cedar Grove, NJ  University of Illinois  \n",
       "1  Spring Grove, IL  University of Illinois  \n",
       "2     Green Bay, WI  University of Illinois  \n",
       "3  Sicklerville, NJ  University of Illinois  \n",
       "4        Austin, TX  University of Illinois  "
      ]
     },
     "execution_count": 7,
     "metadata": {},
     "output_type": "execute_result"
    }
   ],
   "source": [
    "big10.head()"
   ]
  },
  {
   "cell_type": "raw",
   "id": "0e403246",
   "metadata": {},
   "source": [
    "This Python code snippet performs two primary functions: geocoding and calculating great-circle distances. Let's break it down:\n",
    "\n",
    "Importing Required Libraries:\n",
    "\n",
    "from geopy.geocoders import Nominatim: Imports the Nominatim class from the geopy.geocoders module. Nominatim is a free geocoding service.\n",
    "from geopy.distance import great_circle: Imports the great_circle function from the geopy.distance module. This function is used to calculate the great-circle distance between two geographic coordinates.\n",
    "import pandas as pd: Imports the Pandas library, which is used for data manipulation and analysis, although it is not used in this particular code snippet.\n",
    "Initialize the Geolocator:\n",
    "\n",
    "geolocator = Nominatim(user_agent=\"myGeocoder\"): Creates an instance of the Nominatim geocoder and sets the user_agent parameter, which identifies the application making the request to Nominatim's API.\n",
    "Defining Function to Get Latitude and Longitude:\n",
    "\n",
    "def get_lat_lng(location): Defines a function named get_lat_lng that takes a location string as an argument.\n",
    "\n",
    "try: The try block contains code that might throw an exception.\n",
    "\n",
    "geocode_result = geolocator.geocode(location): Uses the geocode method of the Nominatim class to get the geographic coordinates (latitude and longitude) for the specified location string.\n",
    "\n",
    "return geocode_result.latitude, geocode_result.longitude: If geocoding is successful, the function returns the latitude and longitude as a tuple.\n",
    "\n",
    "except AttributeError: If an AttributeError occurs (likely because the geocode method returned None, meaning the location was not found), it proceeds to the except block.\n",
    "\n",
    "return None, None: The function returns None for both latitude and longitude if it encounters an AttributeError.\n",
    "The function get_lat_lng can be called with a location string to obtain its latitude and longitude if available. If the location cannot be geocoded, it returns None for both.\n"
   ]
  },
  {
   "cell_type": "code",
   "execution_count": 4,
   "id": "53de16fd",
   "metadata": {},
   "outputs": [],
   "source": [
    "from geopy.geocoders import Nominatim\n",
    "from geopy.distance import great_circle\n",
    "import pandas as pd\n",
    "\n",
    "geolocator = Nominatim(user_agent=\"myGeocoder\")"
   ]
  },
  {
   "cell_type": "code",
   "execution_count": 6,
   "id": "2cda4d1c",
   "metadata": {},
   "outputs": [],
   "source": [
    "def get_lat_lng(location):\n",
    "    try:\n",
    "        geocode_result = geolocator.geocode(location)\n",
    "        return geocode_result.latitude, geocode_result.longitude\n",
    "    except AttributeError:\n",
    "        return None, None"
   ]
  },
  {
   "cell_type": "code",
   "execution_count": 8,
   "id": "8d885f56",
   "metadata": {},

    }
   ],
   "source": [
    "big10['Latitude'], big10['Longitude'] = zip(*big10['BIRTH_CITY'].apply(get_lat_lng))"
   ]
  },
  {
   "cell_type": "code",
   "execution_count": null,
   "id": "fd0cce10",
   "metadata": {},
   "outputs": [],
   "source": [
    "def standardize_city_name(city):\n",
    "    us_state_abbrev = {\n",
    "        'AL': 'Alabama', 'AK': 'Alaska', 'AZ': 'Arizona', 'AR': 'Arkansas', 'CA': 'California', 'CO': 'Colorado',\n",
    "        'CT': 'Connecticut', 'DE': 'Delaware', 'FL': 'Florida', 'GA': 'Georgia', 'HI': 'Hawaii', 'ID': 'Idaho',\n",
    "        'IL': 'Illinois', 'IN': 'Indiana', 'IA': 'Iowa', 'KS': 'Kansas', 'KY': 'Kentucky', 'LA': 'Louisiana',\n",
    "        'ME': 'Maine', 'MD': 'Maryland', 'MA': 'Massachusetts', 'MI': 'Michigan', 'MN': 'Minnesota', 'MS': 'Mississippi',\n",
    "        'MO': 'Missouri', 'MT': 'Montana', 'NE': 'Nebraska', 'NV': 'Nevada', 'NH': 'New Hampshire', 'NJ': 'New Jersey',\n",
    "        'NM': 'New Mexico', 'NY': 'New York', 'NC': 'North Carolina', 'ND': 'North Dakota', 'OH': 'Ohio', 'OK': 'Oklahoma',\n",
    "        'OR': 'Oregon', 'PA': 'Pennsylvania', 'RI': 'Rhode Island', 'SC': 'South Carolina', 'SD': 'South Dakota',\n",
    "        'TN': 'Tennessee', 'TX': 'Texas', 'UT': 'Utah', 'VT': 'Vermont', 'VA': 'Virginia', 'WA': 'Washington',\n",
    "        'WV': 'West Virginia', 'WI': 'Wisconsin', 'WY': 'Wyoming'\n",
    "    }\n",
    "    if city is None or not isinstance(city, str) or ',' not in city:\n",
    "        return None\n",
    "\n",
    "    city_parts = city.split(\", \")\n",
    "    city_name = city_parts[0].strip().lower()\n",
    "\n",
    "    if len(city_parts) < 2:\n",
    "        return city_name\n",
    "\n",
    "    state_abbr = city_parts[1].strip().lower()\n",
    "    state_name = us_state_abbrev.get(state_abbr.upper(), state_abbr)\n",
    "    return f\"{city_name}, {state_name.lower()}\"\n",
    "\n",
    "# Add 'standardize_city_name' column to the big10 DataFrame\n",
    "big10['standardize_city_name'] = big10['BIRTH_CITY'].apply(standardize_city_name)\n",
    "\n",
    "# Add 'standardize_city_name' column to the merged_df DataFrame\n",
    "city_data['standardize_city_name1'] = city_data['City'].apply(str.strip)\n",
    "city_data['standardize_city_name'] = city_data['standardize_city_name1'].str.lower()"
   ]
  }
 ],
 "metadata": {
  "kernelspec": {
   "display_name": "Python 3 (ipykernel)",
   "language": "python",
   "name": "python3"
  },
  "language_info": {
   "codemirror_mode": {
    "name": "ipython",
    "version": 3
   },
   "file_extension": ".py",
   "mimetype": "text/x-python",
   "name": "python",
   "nbconvert_exporter": "python",
   "pygments_lexer": "ipython3",
   "version": "3.11.1"
  }
 },
 "nbformat": 4,
 "nbformat_minor": 5
}
